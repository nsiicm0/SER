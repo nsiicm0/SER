{
 "cells": [
  {
   "cell_type": "markdown",
   "metadata": {},
   "source": [
    "# Introduction"
   ]
  },
  {
   "cell_type": "markdown",
   "metadata": {},
   "source": [
    "Do not spend too much time trying to get very tiny metrics improvement. Once you have a model with a correct predictive power, you should better spend time explaining your data cleaning & preparation pipeline as well as explanations & visualizations of the results.\n",
    "\n",
    "The goal is to see your fit with our company culture & engineering needs, spending 50h on an over-complicated approach will not give you bonus points compared to a simple, yet effective, to-the-point solution."
   ]
  },
  {
   "cell_type": "markdown",
   "metadata": {},
   "source": [
    "## About the data"
   ]
  },
  {
   "cell_type": "markdown",
   "metadata": {},
   "source": [
    "The dataset you will be working with is called Emo-DB and can be found [here](http://emodb.bilderbar.info/index-1280.html).\n",
    "\n",
    "It is a database containing samples of emotional speech in German. It contains samples labeled with one of 7 different emotions: Anger, Boredom, Disgust, Fear, Happiness, Sadness and Neutral. \n",
    "\n",
    "Please download the full database and refer to the documentation to understand how the samples are labeled (see \"Additional information\")\n",
    "   \n",
    "The goal of this project is to develop a model which is able to **classify samples of emotional speech**. Feel free to use any available library you would need, but beware of re-using someone else's code without mentionning it!"
   ]
  },
  {
   "cell_type": "markdown",
   "metadata": {},
   "source": [
    "## Deliverable"
   ]
  },
  {
   "cell_type": "markdown",
   "metadata": {},
   "source": [
    "The end-goal is to deliver us a zip file containing:\n",
    "* This report filled with your approach, in the form of an **iPython Notebook**.\n",
    "* A **5-10 slides PDF file**, containing a technical presentation covering the important aspects of your work\n",
    "* A Dockerfile which defines a container for the project. The container should handle everything (download the data, run the code, etc...). When running the container it should expose the jupyter notebook on one port and expose a Flask API on another one. The Flask app contains two endpoints:\n",
    "  - One for training the model\n",
    "  - One for querying the last trained model with an audio file of our choice in the dataset\n",
    "* A README.md which should contain the commands to build and run the docker container, as well as how to perform the queries to the API. \n",
    "* Any necessary .py, .sh or other files needed to run your code."
   ]
  },
  {
   "cell_type": "markdown",
   "metadata": {},
   "source": [
    "```\n",
    "    AUTHOR: Niclas Simmler\n",
    "    DATE: April 22, 2021\n",
    "```"
   ]
  },
  {
   "cell_type": "markdown",
   "metadata": {},
   "source": [
    "# Libraries Loading"
   ]
  },
  {
   "cell_type": "markdown",
   "metadata": {},
   "source": [
    "First, we will need to do some basic setup. We will activate autoreload and make sure the src code is visible in jupyter."
   ]
  },
  {
   "cell_type": "code",
   "execution_count": 1,
   "metadata": {
    "tags": []
   },
   "outputs": [],
   "source": [
    "%load_ext autoreload\n",
    "%autoreload 2\n",
    "%config Application.log_level=\"INFO\"\n",
    "import os\n",
    "import sys\n",
    "\n",
    "PROJECT_BASE_PATH = os.path.abspath(os.path.join(os.getcwd(), os.pardir))\n",
    "DATA_BASE_PATH = os.path.join(PROJECT_BASE_PATH, 'data')\n",
    "SRC_BASE_PATH = os.path.join(PROJECT_BASE_PATH, 'src')\n",
    "sys.path.insert(0, SRC_BASE_PATH)"
   ]
  },
  {
   "cell_type": "markdown",
   "metadata": {},
   "source": [
    "Let's load our required modules.\n",
    "\n",
    "We start of with our very own `ser` module. This one will hold all relevant functionalities."
   ]
  },
  {
   "cell_type": "code",
   "execution_count": 2,
   "metadata": {},
   "outputs": [],
   "source": [
    "import ser"
   ]
  },
  {
   "cell_type": "markdown",
   "metadata": {},
   "source": [
    "Next, we will load some other common modules which we need."
   ]
  },
  {
   "cell_type": "code",
   "execution_count": 3,
   "metadata": {},
   "outputs": [],
   "source": [
    "import numpy as np\n",
    "import pandas as pd\n",
    "from matplotlib import cm\n",
    "from pydub import AudioSegment\n",
    "from pydub.playback import play\n",
    "from pydub.utils import db_to_float, ratio_to_db\n",
    "import matplotlib.pyplot as plt\n",
    "from speechpy.feature import mfcc"
   ]
  },
  {
   "cell_type": "markdown",
   "metadata": {},
   "source": [
    "# Data Preparation & Cleaning\n",
    "\n",
    "## Download\n",
    "\n",
    "We will first need to download the data if not already done so. In order to deal with all the logic, a wrapper class will be used, which allows for easy operation on the dataset.\n",
    "\n",
    "The code for the dataset wrapper can be found in `src/ser/dataset.py`. First, instantiate a dataset object."
   ]
  },
  {
   "cell_type": "code",
   "execution_count": 4,
   "metadata": {
    "tags": []
   },
   "outputs": [
    {
     "name": "stdout",
     "output_type": "stream",
     "text": [
      "2021-04-23 17:04:15,631 - ser.dataset - INFO - Creating Dataset Wrapper object.\n",
      "2021-04-23 17:04:15,632 - ser.dataset - INFO - > Base Path at \"/Users/nik/Code/visium/data\"\n",
      "2021-04-23 17:04:15,633 - ser.dataset - INFO - > Pristine Path at \"/Users/nik/Code/visium/data/pristine\"\n",
      "2021-04-23 17:04:15,634 - ser.dataset - INFO - > Working Path at \"/Users/nik/Code/visium/data/working\"\n",
      "2021-04-23 17:04:15,635 - ser.dataset - INFO - Make sure that the http://emodb.bilderbar.info/download/download.zip points to a ZIP file.\n"
     ]
    }
   ],
   "source": [
    "dataset = ser.Dataset(data_path=DATA_BASE_PATH, remote_url='http://emodb.bilderbar.info/download/download.zip')"
   ]
  },
  {
   "cell_type": "code",
   "execution_count": 5,
   "metadata": {},
   "outputs": [],
   "source": [
    "# Run this line below if you want to clean the data directory\n",
    "#dataset.clean()"
   ]
  },
  {
   "cell_type": "markdown",
   "metadata": {},
   "source": [
    "Then we download the data."
   ]
  },
  {
   "cell_type": "code",
   "execution_count": 5,
   "metadata": {},
   "outputs": [
    {
     "name": "stdout",
     "output_type": "stream",
     "text": [
      "2021-04-23 17:04:17,552 - ser.dataset - INFO - Dataset downloaded.\n"
     ]
    },
    {
     "data": {
      "text/plain": [
       "True"
      ]
     },
     "execution_count": 5,
     "metadata": {},
     "output_type": "execute_result"
    }
   ],
   "source": [
    "dataset.download()"
   ]
  },
  {
   "cell_type": "markdown",
   "metadata": {},
   "source": [
    "The return value of the download is `True`, thus, everything went fine. If we were to rerun this function, it would not download anything anymore. However, using the `force=True` argument, we can initiate the download again.\n",
    "\n",
    "Since it is a ZIP File, we will need to extract it."
   ]
  },
  {
   "cell_type": "code",
   "execution_count": 6,
   "metadata": {},
   "outputs": [
    {
     "name": "stdout",
     "output_type": "stream",
     "text": [
      "2021-04-23 17:04:18,353 - ser.dataset - INFO - Dataset extracted.\n"
     ]
    },
    {
     "data": {
      "text/plain": [
       "True"
      ]
     },
     "execution_count": 6,
     "metadata": {},
     "output_type": "execute_result"
    }
   ],
   "source": [
    "dataset.extract()"
   ]
  },
  {
   "cell_type": "markdown",
   "metadata": {},
   "source": [
    "The extraction went well too. If we were to rerun this function, it would not extract anything anymore. However, using the `force=True` argument, we can initiate the extraction again.\n",
    "\n",
    "Now we need to parse the data. For this, let's have a look at the documentation (http://www.emodb.bilderbar.info/index-1280.html)\n",
    "\n",
    "In our data folder, we have multiple files and folders. Not all of them are relevant."
   ]
  },
  {
   "cell_type": "code",
   "execution_count": 7,
   "metadata": {},
   "outputs": [
    {
     "name": "stdout",
     "output_type": "stream",
     "text": [
      "['wav', '.gitkeep', 'silb', 'erklaerung.txt', 'lablaut', 'erkennung.txt', 'labsilb']\n",
      "['16a02Lb.wav', '14a07Wc.wav', '10a07Ad.wav', '13a05Ea.wav', '14a05Wa.wav', '14a07Na.wav', '15a05Wa.wav', '16b10Wb.wav', '09a01Nb.wav', '16a01Fc.wav']\n"
     ]
    }
   ],
   "source": [
    "print(os.listdir(os.path.join(DATA_BASE_PATH, 'working')))\n",
    "print(os.listdir(os.path.join(DATA_BASE_PATH, 'working', 'wav'))[:10])"
   ]
  },
  {
   "cell_type": "markdown",
   "metadata": {},
   "source": [
    "For the task at hand, only the content of the `wav` folder are relevant. It contains wav-files that are named in the following schema (according to the documentation.\n",
    "\n",
    "```\n",
    "Positions 1-2: number of speaker\n",
    "Positions 3-5: code for text\n",
    "Position 6: emotion (sorry, letter stands for german emotion word)\n",
    "Position 7: if there are more than two versions these are numbered a, b, c ....\n",
    "```\n",
    "\n",
    "The documentation further states information about the speakers:\n",
    "\n",
    "```\n",
    "03 - male, 31 years old\n",
    "08 - female, 34 years\n",
    "09 - female, 21 years\n",
    "10 - male, 32 years\n",
    "11 - male, 26 years\n",
    "12 - male, 30 years\n",
    "13 - female, 32 years\n",
    "14 - female, 35 years\n",
    "15 - male, 25 years\n",
    "16 - female, 31 years\n",
    "```\n",
    "\n",
    "And about the spoken sample:\n",
    "\n",
    "|code|text (german)|try of an english translation|\n",
    "|--- |--- |--- |\n",
    "|a01|Der Lappen liegt auf dem Eisschrank.|The tablecloth is lying on the frigde.|\n",
    "|a02|Das will sie am Mittwoch abgeben.|She will hand it in on Wednesday.|\n",
    "|a04|Heute abend könnte ich es ihm sagen.|Tonight I could tell him.|\n",
    "|a05|Das schwarze Stück Papier befindet sich da oben neben dem Holzstück.|The black sheet of paper is located up there besides the piece of timber.|\n",
    "|a07|In sieben Stunden wird es soweit sein.|In seven hours it will be.|\n",
    "|b01|Was sind denn das für Tüten, die da unter dem Tisch stehen?|What about the bags standing there under the table?|\n",
    "|b02|Sie haben es gerade hochgetragen und jetzt gehen sie wieder runter.|They just carried it upstairs and now they are going down again.|\n",
    "|b03|An den Wochenenden bin ich jetzt immer nach Hause gefahren und habe Agnes besucht.|Currently at the weekends I always went home and saw Agnes.|\n",
    "|b09|Ich will das eben wegbringen und dann mit Karl was trinken gehen.|I will just discard this and then go for a drink with Karl.|\n",
    "|b10|Die wird auf dem Platz sein, wo wir sie immer hinlegen.|It will be in the place where we always store it.|\n",
    "\n",
    "And lastly, some information about the emotions:\n",
    "\n",
    "|letter|emotion (english)|letter|emotion (german)|\n",
    "|--- |--- |--- |--- |\n",
    "|A|anger|W|Ärger (Wut)|\n",
    "|B|boredom|L|Langeweile|\n",
    "|D|disgust|E|Ekel|\n",
    "|F|anxiety/fear|A|Angst|\n",
    "|H|happiness|F|Freude|\n",
    "|S|sadness|T|Trauer|\n",
    "\n",
    "Note: `N` is also an option which stands for `Neutral`.\n",
    "\n",
    "So, the sample `16a02Lb.wav` can be parsed as the following:\n",
    "\n",
    "* Speaker = 16 - female, 31 years\n",
    "* Text = a02 for \"Das will sie am Mittwoch abgeben.\"\n",
    "* Emotion = L for \"Langeweile\"\n",
    "* Version = b (i.e., there is at least another version a in the dataset)\n"
   ]
  },
  {
   "cell_type": "code",
   "execution_count": 8,
   "metadata": {},
   "outputs": [
    {
     "name": "stdout",
     "output_type": "stream",
     "text": [
      "[{'filename': '16a02Lb.wav', 'full_path': '/Users/nik/Code/visium/data/working/wav/16a02Lb.wav', 'speaker': '16', 'text': 'a02', 'emotion': 'L', 'version': 'b'}, {'filename': '14a07Wc.wav', 'full_path': '/Users/nik/Code/visium/data/working/wav/14a07Wc.wav', 'speaker': '14', 'text': 'a07', 'emotion': 'W', 'version': 'c'}, {'filename': '10a07Ad.wav', 'full_path': '/Users/nik/Code/visium/data/working/wav/10a07Ad.wav', 'speaker': '10', 'text': 'a07', 'emotion': 'A', 'version': 'd'}, {'filename': '13a05Ea.wav', 'full_path': '/Users/nik/Code/visium/data/working/wav/13a05Ea.wav', 'speaker': '13', 'text': 'a05', 'emotion': 'E', 'version': 'a'}, {'filename': '14a05Wa.wav', 'full_path': '/Users/nik/Code/visium/data/working/wav/14a05Wa.wav', 'speaker': '14', 'text': 'a05', 'emotion': 'W', 'version': 'a'}]\n"
     ]
    }
   ],
   "source": [
    "speakers = ['03', '08', '09', '10', '11', '12', '13', '14', '15', '16']\n",
    "texts = ['a01', 'a02', 'a04', 'a05', 'a07', 'b01', 'b02', 'b03', 'b09', 'b10']\n",
    "emotions = {\n",
    "    'W': 'Ärger (Wut)',\n",
    "    'L': 'Langeweile',\n",
    "    'E': 'Ekel',\n",
    "    'A': 'Angst',\n",
    "    'F': 'Freude',\n",
    "    'T': 'Trauer',\n",
    "    'N': 'Neutral'\n",
    "}\n",
    "files = list()\n",
    "for filename in os.listdir(os.path.join(dataset.working_path, 'wav')):\n",
    "    assert len(filename) == 11, 'Encountered unknown filename.'\n",
    "    _speaker = filename[0:2]\n",
    "    assert _speaker in speakers, 'Encountered unknown speaker.'\n",
    "    _text = filename[2:5]\n",
    "    assert _text in texts, 'Encountered unknown text.'\n",
    "    _emotion = filename[5:6]\n",
    "    assert _emotion in emotions.keys(), 'Encountered unknown emotion.'\n",
    "    _version = filename[6:7]\n",
    "    assert _version in list('abcdefghijklmnopqrstuvwxyz'), 'Encountered unknown version.'\n",
    "    files.append({\n",
    "        'filename': filename,\n",
    "        'full_path': os.path.join(dataset.working_path, 'wav', filename),\n",
    "        'speaker': _speaker, \n",
    "        'text': _text,\n",
    "        'emotion': _emotion,\n",
    "        'version': _version\n",
    "    })\n",
    "print(files[:5])"
   ]
  },
  {
   "cell_type": "markdown",
   "metadata": {},
   "source": [
    "In order to get a more manageable interface for the samples, the `Sample` class is meant to interface a sample and deals with all low level operations."
   ]
  },
  {
   "cell_type": "code",
   "execution_count": 9,
   "metadata": {},
   "outputs": [
    {
     "name": "stdout",
     "output_type": "stream",
     "text": [
      "<Sample name=14a07Wc.wav, path=/Users/nik/Code/visium/data/working/wav/14a07Wc.wav, length=None, sample_rate=None, speaker=14, gender=Female, text=a07, emotion=W, version=c, chunk=1>\n"
     ]
    }
   ],
   "source": [
    "s = ser.Sample(os.path.join(dataset.working_path, 'wav', '14a07Wc.wav'))\n",
    "print(s)"
   ]
  },
  {
   "cell_type": "markdown",
   "metadata": {},
   "source": [
    "As this seems to work, the dataset function `.prepare()` is meant to automate this."
   ]
  },
  {
   "cell_type": "code",
   "execution_count": 10,
   "metadata": {},
   "outputs": [
    {
     "name": "stdout",
     "output_type": "stream",
     "text": [
      "2021-04-23 17:04:26,824 - ser.dataset - INFO - Dataset prepared.\n",
      "[<Sample name=16a02Lb.wav, path=/Users/nik/Code/visium/data/working/wav/16a02Lb.wav, length=None, sample_rate=None, speaker=16, gender=Female, text=a02, emotion=L, version=b, chunk=1>, <Sample name=14a07Wc.wav, path=/Users/nik/Code/visium/data/working/wav/14a07Wc.wav, length=None, sample_rate=None, speaker=14, gender=Female, text=a07, emotion=W, version=c, chunk=1>]\n"
     ]
    }
   ],
   "source": [
    "dataset.prepare()\n",
    "print(dataset.get_raw_data()[:2])"
   ]
  },
  {
   "cell_type": "code",
   "execution_count": 11,
   "metadata": {},
   "outputs": [
    {
     "name": "stdout",
     "output_type": "stream",
     "text": [
      "535\n"
     ]
    }
   ],
   "source": [
    "print(len(dataset.get_raw_data()))"
   ]
  },
  {
   "cell_type": "markdown",
   "metadata": {},
   "source": [
    "We got 535 samples in total. This is not an awful lot to work with. Thus, we might use some data augmentation method later on to increase the sample amount."
   ]
  },
  {
   "cell_type": "markdown",
   "metadata": {},
   "source": [
    "# Feature Engineering"
   ]
  },
  {
   "cell_type": "markdown",
   "metadata": {
    "tags": []
   },
   "source": [
    "As a next step, we will need to load the actual data. We need to keep in mind that the samples might be of different lengths. We have two options here: Either cut all samples to the smallest size OR padd all samples to the longest size. Since, we do not have that much data, it makes sense to not further reduce the dataset. Thus, we will apply some padding. But first, let's load some samples and see with what we are dealing with."
   ]
  },
  {
   "cell_type": "code",
   "execution_count": 12,
   "metadata": {},
   "outputs": [
    {
     "name": "stdout",
     "output_type": "stream",
     "text": [
      "16000 2081 <pydub.audio_segment.AudioSegment object at 0x11a8513c8>\n",
      "16000 2064 <pydub.audio_segment.AudioSegment object at 0x11a8514a8>\n",
      "16000 1603 <pydub.audio_segment.AudioSegment object at 0x11a851550>\n",
      "16000 4196 <pydub.audio_segment.AudioSegment object at 0x11a851588>\n",
      "16000 4007 <pydub.audio_segment.AudioSegment object at 0x11a8515f8>\n",
      "16000 2096 <pydub.audio_segment.AudioSegment object at 0x11a851668>\n",
      "16000 3098 <pydub.audio_segment.AudioSegment object at 0x11a8516d8>\n",
      "16000 2522 <pydub.audio_segment.AudioSegment object at 0x11a851748>\n",
      "16000 1683 <pydub.audio_segment.AudioSegment object at 0x11a8517b8>\n",
      "16000 2096 <pydub.audio_segment.AudioSegment object at 0x11a851828>\n"
     ]
    }
   ],
   "source": [
    "samples = dataset.get_raw_data()[:10]\n",
    "for sample in samples:\n",
    "    audio = AudioSegment.from_wav(sample.get('path'))\n",
    "    print(audio.frame_rate, len(audio), audio)"
   ]
  },
  {
   "cell_type": "markdown",
   "metadata": {},
   "source": [
    "As we can see (second column), the files have a lot of different lengths. Thus, the padding is really necessary."
   ]
  },
  {
   "cell_type": "code",
   "execution_count": 13,
   "metadata": {},
   "outputs": [],
   "source": [
    "loaded_samples = list()\n",
    "sample_lengths = list()\n",
    "for sample in dataset.get_raw_data():\n",
    "    audio = AudioSegment.from_wav(sample.get('path'))\n",
    "    loaded_samples.append((audio.frame_rate, audio))\n",
    "    sample_lengths.append(len(audio))"
   ]
  },
  {
   "cell_type": "code",
   "execution_count": 14,
   "metadata": {},
   "outputs": [
    {
     "name": "stdout",
     "output_type": "stream",
     "text": [
      "Min length: 1226, Max length: 8978, Avg length: 2780\n"
     ]
    }
   ],
   "source": [
    "avg_length = int(round(sum(sample_lengths)/len(sample_lengths), 0))\n",
    "print(f'Min length: {min(sample_lengths)}, Max length: {max(sample_lengths)}, Avg length: {avg_length}')"
   ]
  },
  {
   "cell_type": "code",
   "execution_count": 15,
   "metadata": {},
   "outputs": [
    {
     "data": {
      "text/plain": [
       "Text(0.5, 0, 'Sample length [ms]')"
      ]
     },
     "execution_count": 15,
     "metadata": {},
     "output_type": "execute_result"
    },
    {
     "data": {
      "image/png": "[encoded data removed]",
      "text/plain": [
       "<Figure size 432x288 with 1 Axes>"
      ]
     },
     "metadata": {
      "needs_background": "light"
     },
     "output_type": "display_data"
    }
   ],
   "source": [
    "plt.clf()\n",
    "plt.hist(sample_lengths)\n",
    "plt.xlabel('Sample length [ms]')"
   ]
  },
  {
   "cell_type": "markdown",
   "metadata": {},
   "source": [
    "The length of the samples varies quite a lot. I expected it to be more densly packed. Given the fact that we are not dealing with an awful lot of data and that the sample lengths vary quite a lot, we will need to be careful when padding/slicing the audio. Since, we intend to use techniques such as MFCCs (Mel-frequency cepstral coefficients), the length of the sample is quite decisive. Too short and too long of a sample (i.e., < 1s and > few seconds) might not catch all features. Thus, we will proceed in the following manner:\n",
    "\n",
    "* Split each sample into chunk of length `min(sample_lengths)` (= this length might be a hyper-parameter for finetuning)\n",
    "* Create new samples based on additional chunks\n",
    "* Pad the last sample with silence\n",
    "\n",
    "This way we will end up with a lot more samples (which is good, since we haven't had that many samples to start with). The last sample might not be really helpful in case it only contains a few milliseconds of information and is padded with a lot of noise.\n",
    "\n",
    "It is worth noting: It might be that our length is too small, thus we would need to be able to increase this length and fine tune. We will consult research later on to find an ideal length candidate."
   ]
  },
  {
   "cell_type": "code",
   "execution_count": 16,
   "metadata": {},
   "outputs": [],
   "source": [
    "def split_and_pad(sample, length):\n",
    "    sample_length = len(sample)\n",
    "    delta = length - sample_length\n",
    "    chunks = list()\n",
    "    if delta < 0: # sample needs splitting\n",
    "        chunks.extend(sample[::length])\n",
    "    else:\n",
    "        chunks.append(sample)\n",
    "    # pad the last chunk\n",
    "    last_chunk = chunks[-1]\n",
    "    to_pad = length - len(last_chunk)\n",
    "    padding = AudioSegment.silent(duration=to_pad, frame_rate=last_chunk.frame_rate)\n",
    "    # combine the samples and also make sure we really do not exceed the length due to rounding issues\n",
    "    chunks[-1] = last_chunk.append(padding, crossfade=0)[:length]\n",
    "    return chunks"
   ]
  },
  {
   "cell_type": "code",
   "execution_count": 17,
   "metadata": {},
   "outputs": [
    {
     "name": "stdout",
     "output_type": "stream",
     "text": [
      "Playing chunk #1\n",
      "Playing chunk #2\n"
     ]
    }
   ],
   "source": [
    "for i, chunk in enumerate(split_and_pad(loaded_samples[1][1], min(sample_lengths))):\n",
    "    print(f'Playing chunk #{i+1}')\n",
    "    play(chunk)"
   ]
  },
  {
   "cell_type": "markdown",
   "metadata": {},
   "source": [
    "Another thing of concern might be the normalization. We are dealing with audio samples from Male and Female, spoken in different emotions and of different sentences. Naturally, the audio amplitude will vary based on the source. Thus, it seems relevant to normalize the audio prior to feature extraction to achieve an unbiased representation.\n",
    "\n",
    "Let's have a look at a few examples:"
   ]
  },
  {
   "cell_type": "code",
   "execution_count": 18,
   "metadata": {},
   "outputs": [],
   "source": [
    "def plot_wave_form(samples):\n",
    "    fig, axs = plt.subplots(len(samples), 1, figsize=(10, 3*len(samples)))\n",
    "    fig.tight_layout(pad=3.0)\n",
    "    for ax, sample in zip(axs, samples):\n",
    "        audio_buffer = np.frombuffer(sample.get_array_of_samples(), dtype=np.int16)\n",
    "        audio_len = len(sample)\n",
    "        time = np.linspace(0, audio_len, num = len(audio_buffer))\n",
    "        ax.plot(time, audio_buffer)\n",
    "        ax.set_title(f'Length: {audio_len}, Amplitude Max: {sample.max}, Amplitude Max DB: {sample.max_dBFS}')\n",
    "    plt.show()"
   ]
  },
  {
   "cell_type": "code",
   "execution_count": 19,
   "metadata": {},
   "outputs": [],
   "source": [
    "male = None\n",
    "female = None\n",
    "first_text = None\n",
    "# Find a female and male sample\n",
    "for sample in dataset.get_raw_data():\n",
    "    if male is not None and female is not None:\n",
    "        break\n",
    "    if sample.get('speaker') in ['03', '10', '11', '12', '15']:\n",
    "        if first_text is None or sample.get('text') != first_text:\n",
    "            if male is None:\n",
    "                male = AudioSegment.from_wav(sample.get('path'))\n",
    "        else:\n",
    "            continue\n",
    "    else:\n",
    "        if first_text is None or sample.get('text') != first_text:\n",
    "            if female is None:\n",
    "                female = AudioSegment.from_wav(sample.get('path'))\n",
    "        else:\n",
    "            continue"
   ]
  },
  {
   "cell_type": "code",
   "execution_count": 20,
   "metadata": {},
   "outputs": [
    {
     "data": {
      "image/png": "[encoded data removed]",
      "text/plain": [
       "<Figure size 720x432 with 2 Axes>"
      ]
     },
     "metadata": {
      "needs_background": "light"
     },
     "output_type": "display_data"
    }
   ],
   "source": [
    "plot_wave_form([male, female])"
   ]
  },
  {
   "cell_type": "markdown",
   "metadata": {},
   "source": [
    "It does not appear to be a crazy difference in amplitude. But better be safe than sorry."
   ]
  },
  {
   "cell_type": "code",
   "execution_count": 21,
   "metadata": {},
   "outputs": [],
   "source": [
    "def find_peak_amplitude(samples):\n",
    "    max_value = -np.inf\n",
    "    max_dbfs = -np.inf\n",
    "    for _, sample in samples:\n",
    "        max_value = sample.max if max_value < sample.max else max_value\n",
    "        max_dbfs = sample.max_dBFS if max_dbfs < sample.max_dBFS else max_dbfs\n",
    "    return (max_value, max_dbfs)\n",
    "        \n",
    "max_value, max_dbfs = find_peak_amplitude(loaded_samples)"
   ]
  },
  {
   "cell_type": "code",
   "execution_count": 22,
   "metadata": {},
   "outputs": [],
   "source": [
    "def normalize(sample, max_value, headroom=0.1):\n",
    "    \"\"\"Normalize function.\n",
    "    Based on implementation of pydub: https://github.com/jiaaro/pydub/blob/master/pydub/effects.py#L36-L49\n",
    "    \"\"\"\n",
    "    target_peak = sample.max_possible_amplitude * db_to_float(-headroom)\n",
    "    needed_boost = ratio_to_db(target_peak / max_value)\n",
    "    return sample.apply_gain(needed_boost)"
   ]
  },
  {
   "cell_type": "code",
   "execution_count": 23,
   "metadata": {},
   "outputs": [
    {
     "data": {
      "image/png": "[encoded data removed]",
      "text/plain": [
       "<Figure size 720x432 with 2 Axes>"
      ]
     },
     "metadata": {
      "needs_background": "light"
     },
     "output_type": "display_data"
    }
   ],
   "source": [
    "plot_wave_form([normalize(sample, max_value) for sample in [male, female]])"
   ]
  },
  {
   "cell_type": "markdown",
   "metadata": {},
   "source": [
    "Unfortunately, the normalization does not make much of a difference (the numbers only differ because we applied some headroom). However, in light of a possible application with unseen data, the normalization step is mandatory for data samples outside of the dataset. Furthermore, the Emo-DB dataset was recorded in a professional recording studio [1]. We can expect quite good audio processing from the samples.\n",
    "\n",
    "The dataset function `.load()` is meant to automate this whole process."
   ]
  },
  {
   "cell_type": "code",
   "execution_count": 24,
   "metadata": {},
   "outputs": [
    {
     "name": "stdout",
     "output_type": "stream",
     "text": [
      "2021-04-23 17:04:56,626 - ser.dataset - INFO - Normalizing requested.\n",
      "2021-04-23 17:04:56,753 - ser.dataset - INFO - Dataset loaded.\n"
     ]
    },
    {
     "data": {
      "text/plain": [
       "True"
      ]
     },
     "execution_count": 24,
     "metadata": {},
     "output_type": "execute_result"
    }
   ],
   "source": [
    "avg = lambda x: int(round(sum(x)/len(x), 0))\n",
    "dataset.load(split_at=avg)"
   ]
  },
  {
   "cell_type": "code",
   "execution_count": 25,
   "metadata": {},
   "outputs": [
    {
     "name": "stdout",
     "output_type": "stream",
     "text": [
      "Samples:  775\n"
     ]
    },
    {
     "data": {
      "text/plain": [
       "[<Sample name=16a02Lb.wav, path=/Users/nik/Code/visium/data/working/wav/16a02Lb.wav, length=2780, sample_rate=16000, speaker=16, gender=Female, text=a02, emotion=L, version=b, chunk=1>,\n",
       " <Sample name=14a07Wc.wav, path=/Users/nik/Code/visium/data/working/wav/14a07Wc.wav, length=2780, sample_rate=16000, speaker=14, gender=Female, text=a07, emotion=W, version=c, chunk=1>,\n",
       " <Sample name=10a07Ad.wav, path=/Users/nik/Code/visium/data/working/wav/10a07Ad.wav, length=2780, sample_rate=16000, speaker=10, gender=Male, text=a07, emotion=A, version=d, chunk=1>,\n",
       " <Sample name=13a05Ea.wav, path=/Users/nik/Code/visium/data/working/wav/13a05Ea.wav, length=2780, sample_rate=16000, speaker=13, gender=Female, text=a05, emotion=E, version=a, chunk=1>,\n",
       " <Sample name=13a05Ea.wav, path=/Users/nik/Code/visium/data/working/wav/13a05Ea.wav, length=2780, sample_rate=16000, speaker=13, gender=Female, text=a05, emotion=E, version=a, chunk=2>,\n",
       " <Sample name=14a05Wa.wav, path=/Users/nik/Code/visium/data/working/wav/14a05Wa.wav, length=2780, sample_rate=16000, speaker=14, gender=Female, text=a05, emotion=W, version=a, chunk=1>,\n",
       " <Sample name=14a05Wa.wav, path=/Users/nik/Code/visium/data/working/wav/14a05Wa.wav, length=2780, sample_rate=16000, speaker=14, gender=Female, text=a05, emotion=W, version=a, chunk=2>,\n",
       " <Sample name=14a07Na.wav, path=/Users/nik/Code/visium/data/working/wav/14a07Na.wav, length=2780, sample_rate=16000, speaker=14, gender=Female, text=a07, emotion=N, version=a, chunk=1>,\n",
       " <Sample name=15a05Wa.wav, path=/Users/nik/Code/visium/data/working/wav/15a05Wa.wav, length=2780, sample_rate=16000, speaker=15, gender=Male, text=a05, emotion=W, version=a, chunk=1>,\n",
       " <Sample name=15a05Wa.wav, path=/Users/nik/Code/visium/data/working/wav/15a05Wa.wav, length=2780, sample_rate=16000, speaker=15, gender=Male, text=a05, emotion=W, version=a, chunk=2>]"
      ]
     },
     "execution_count": 25,
     "metadata": {},
     "output_type": "execute_result"
    }
   ],
   "source": [
    "print('Samples: ', len(dataset.get_loaded_data()))\n",
    "dataset.get_loaded_data()[:10]"
   ]
  },
  {
   "cell_type": "markdown",
   "metadata": {},
   "source": [
    "We now have a lot more samples, plus, we can also see with the `chunk` information, that we have multiple samples for the same file if it exceeds the length specified for the split. Also, all samples are now of the same length.\n",
    "\n",
    "Next up, is the feature extraction. Here in lies the actual work. According to various research [2, 3, 4] , a common feature is the MFCC.\n",
    "I will first implement the MFCC but will make it modular so we can easily extend it later on.\n",
    "Thankfully, the MFCC extraction is implemented in the `speechpy` library. Since we are using pydub.AudioSegments, we will first need to convert them to format that is understandable by speechpy.\n"
   ]
  },
  {
   "cell_type": "code",
   "execution_count": 26,
   "metadata": {},
   "outputs": [
    {
     "data": {
      "text/plain": [
       "[<Sample name=13a05Ea.wav, path=/Users/nik/Code/visium/data/working/wav/13a05Ea.wav, length=2780, sample_rate=16000, speaker=13, gender=Female, text=a05, emotion=E, version=a, chunk=1>,\n",
       " <Sample name=13a05Ea.wav, path=/Users/nik/Code/visium/data/working/wav/13a05Ea.wav, length=2780, sample_rate=16000, speaker=13, gender=Female, text=a05, emotion=E, version=a, chunk=2>]"
      ]
     },
     "execution_count": 26,
     "metadata": {},
     "output_type": "execute_result"
    }
   ],
   "source": [
    "samples = dataset.get_loaded_data()[3:5]\n",
    "samples"
   ]
  },
  {
   "cell_type": "code",
   "execution_count": 27,
   "metadata": {},
   "outputs": [],
   "source": [
    "def extract_coefficients(samples, coefficients=13):\n",
    "    fig, axs = plt.subplots(len(samples), 1, figsize=(15,1*len(samples)), sharey=True)\n",
    "    #fig.tight_layout(pad=3.0)\n",
    "    mfccs = list()\n",
    "    for ax, sample in zip(axs, samples):\n",
    "        np_chunk = np.frombuffer(sample.get('object').get_array_of_samples(), dtype=np.int16)\n",
    "        mel_coefficients = mfcc(np_chunk, sample.get('sample_rate'), num_cepstral=coefficients)\n",
    "        mfccs.append(np.ravel(mel_coefficients)) # we flatten the data\n",
    "        mfcc_data = np.swapaxes(mel_coefficients, 0, 1) # we are swapping axis for horizontal visualization\n",
    "        cax = ax.imshow(mfcc_data, interpolation='nearest', cmap=cm.coolwarm, origin='lower') \n",
    "        ax.set_ylabel('Coefficients')\n",
    "    fig.suptitle('MFCC', fontsize='20')\n",
    "    plt.xlabel('Time')\n",
    "    plt.show()\n",
    "    print('Coefficients Shape:', mfccs[0].shape)\n",
    "    return mfccs"
   ]
  },
  {
   "cell_type": "code",
   "execution_count": 28,
   "metadata": {},
   "outputs": [
    {
     "data": {
      "image/png": "[encoded data removed]",
      "text/plain": [
       "<Figure size 1080x144 with 2 Axes>"
      ]
     },
     "metadata": {
      "needs_background": "light"
     },
     "output_type": "display_data"
    },
    {
     "name": "stdout",
     "output_type": "stream",
     "text": [
      "Coefficients Shape: (3588,)\n"
     ]
    }
   ],
   "source": [
    "mfccs = extract_coefficients(samples)"
   ]
  },
  {
   "cell_type": "markdown",
   "metadata": {},
   "source": [
    "This particular sample's MFCC look a bit weird, as we have a lot of activity in the first chunk, but almost nothing in the second one. Let's listen whether this makes sense. (Hint: Yes it does)\n",
    "Also, we can see the padding in the second half of the second subplot.\n",
    "\n",
    "One thing to note: The coefficients parameter defines the num_cepstral in the mfcc function. In research, between 10-20 is considered a good amount of features for speech analysis [5]. Obviously, the higher the number, the more \"depth\" we will gain in the features, but it will also make our models more complex (which is not good)."
   ]
  },
  {
   "cell_type": "code",
   "execution_count": 29,
   "metadata": {},
   "outputs": [
    {
     "name": "stdout",
     "output_type": "stream",
     "text": [
      "Playing chunk #1\n",
      "Playing chunk #2\n"
     ]
    }
   ],
   "source": [
    "for i, sample in enumerate(samples):\n",
    "    print(f'Playing chunk #{i+1}')\n",
    "    play(sample.get('object'))"
   ]
  },
  {
   "cell_type": "markdown",
   "metadata": {},
   "source": [
    "Another set of features we should not let go to waste are the information regarding the gender and spoken text. Both feature subset will be one-hot encoded.\n",
    "\n",
    "The dataset function `.feature_extract()` is meant to automate this whole process of feature extraction. It can also easily be extended as demonstrated below.\n",
    "\n",
    "We will first only extract the features of gender and spoken text. After that I will demonstrate how easily extendable the feature extraction process is by re-exctracting the features including the MFCCs."
   ]
  },
  {
   "cell_type": "code",
   "execution_count": 81,
   "metadata": {},
   "outputs": [
    {
     "name": "stdout",
     "output_type": "stream",
     "text": [
      "2021-04-23 17:18:15,877 - ser.dataset - INFO - Feature extracted.\n",
      "Features: (775, 22)\n"
     ]
    }
   ],
   "source": [
    "dataset.feature_extract(\n",
    "    extraction_methods={'SpeakerAndGenderAndTextType': (ser.SpeakerAndGenderAndTextTypeFeatureExtractor, {'speaker':True, 'gender': True, 'text': True})}\n",
    ")\n",
    "print('Features:', dataset.get_features()[0].shape)"
   ]
  },
  {
   "cell_type": "code",
   "execution_count": 82,
   "metadata": {},
   "outputs": [
    {
     "name": "stdout",
     "output_type": "stream",
     "text": [
      "2021-04-23 17:18:46,182 - ser.dataset - INFO - Forcing feature extraction. Flushes X, y variable.\n",
      "2021-04-23 17:18:46,184 - ser.dataset - INFO - Now extracting features using SpeakerAndGenderAndTextType Feature Extractor\n",
      "2021-04-23 17:18:46,227 - ser.dataset - INFO - Now extracting features using MFCC Feature Extractor\n",
      "2021-04-23 17:18:49,565 - ser.dataset - INFO - Feature extracted.\n",
      "Features: (775, 3610)\n"
     ]
    }
   ],
   "source": [
    "dataset.feature_extract(\n",
    "    extraction_methods={\n",
    "                'SpeakerAndGenderAndTextType': (ser.SpeakerAndGenderAndTextTypeFeatureExtractor, {'speaker':True, 'gender': True, 'text': True}), \n",
    "                'MFCC': (ser.MFCCFeatureExtractor, {'num_cepstral':13})\n",
    "    },\n",
    "    force=True\n",
    ")\n",
    "print('Features:', dataset.get_features()[0].shape)"
   ]
  },
  {
   "cell_type": "markdown",
   "metadata": {},
   "source": [
    "# Modeling"
   ]
  },
  {
   "cell_type": "code",
   "execution_count": null,
   "metadata": {},
   "outputs": [],
   "source": []
  },
  {
   "cell_type": "markdown",
   "metadata": {},
   "source": [
    "# Results & Visualizations"
   ]
  },
  {
   "cell_type": "code",
   "execution_count": null,
   "metadata": {
    "tags": []
   },
   "outputs": [],
   "source": []
  },
  {
   "cell_type": "markdown",
   "metadata": {},
   "source": [
    "# References"
   ]
  },
  {
   "cell_type": "markdown",
   "metadata": {},
   "source": [
    "[1] Burkhardt, F., Paeschke, A., Rolfes, M., Sendlmeier, W. F., & Weiss, B. (2005). A database of German emotional speech. In Ninth European Conference on Speech Communication and Technology.\n",
    "\n",
    "[2] Sezgin, M.C., Gunsel, B. & Kurt, G.K. Perceptual audio features for emotion detection. J AUDIO SPEECH MUSIC PROC. 2012, 16 (2012). https://doi.org/10.1186/1687-4722-2012-16\n",
    "\n",
    "[3] Ayadia ME, Kamelb MS, Karrayb F: Survey on speech emotion recognition: features, classification schemes, and databases. Pattern Recognit 2011, 44(3):572-587.\n",
    "\n",
    "[4] Ververidis D, Kotropoulos C: Emotional speech recognition: resources, features, and methods. Speech Commun 2006, 48(9):1162-1181.\n",
    "\n",
    "[5] Poorjam, Amir Hossein. (2018). Re: Why we take only 12-13 MFCC coefficients in feature extraction?. Retrieved from: https://www.researchgate.net/post/Why_we_take_only_12-13_MFCC_coefficients_in_feature_extraction/5b0fd2b7cbdfd4b7b60e9431/citation/download. "
   ]
  },
  {
   "cell_type": "code",
   "execution_count": null,
   "metadata": {},
   "outputs": [],
   "source": []
  }
 ],
 "metadata": {
  "kernelspec": {
   "display_name": "venv_ser",
   "language": "python",
   "name": "venv_ser"
  },
  "language_info": {
   "codemirror_mode": {
    "name": "ipython",
    "version": 3
   },
   "file_extension": ".py",
   "mimetype": "text/x-python",
   "name": "python",
   "nbconvert_exporter": "python",
   "pygments_lexer": "ipython3",
   "version": "3.6.11"
  }
 },
 "nbformat": 4,
 "nbformat_minor": 4
}
